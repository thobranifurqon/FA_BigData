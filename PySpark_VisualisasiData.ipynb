{
  "nbformat": 4,
  "nbformat_minor": 0,
  "metadata": {
    "colab": {
      "name": "PySpark_VisualisasiData.ipynb",
      "provenance": [],
      "authorship_tag": "ABX9TyMi/fywW0DO9hhD+D2EnVZg",
      "include_colab_link": true
    },
    "kernelspec": {
      "name": "python3",
      "display_name": "Python 3"
    }
  },
  "cells": [
    {
      "cell_type": "markdown",
      "metadata": {
        "id": "view-in-github",
        "colab_type": "text"
      },
      "source": [
        "<a href=\"https://colab.research.google.com/github/thobranifurqon/FA_BigData/blob/master/PySpark_VisualisasiData.ipynb\" target=\"_parent\"><img src=\"https://colab.research.google.com/assets/colab-badge.svg\" alt=\"Open In Colab\"/></a>"
      ]
    },
    {
      "cell_type": "markdown",
      "metadata": {
        "id": "5cDzbGXIUwPW",
        "colab_type": "text"
      },
      "source": [
        "\n",
        "\n",
        "Instalasi Spark pada Google Colab\n"
      ]
    },
    {
      "cell_type": "code",
      "metadata": {
        "id": "Tze6iJPxTezb",
        "colab_type": "code",
        "colab": {}
      },
      "source": [
        "!apt-get install openjdk-8-jdk-headless -qq > /dev/null\n",
        "!wget -q http://www-eu.apache.org/dist/spark/spark-2.4.6/spark-2.4.6-bin-hadoop2.6.tgz\n",
        "!tar xf spark-2.4.6-bin-hadoop2.6.tgz\n",
        "!pip install -q findspark"
      ],
      "execution_count": null,
      "outputs": []
    },
    {
      "cell_type": "code",
      "metadata": {
        "id": "CgHTvbOEUjDm",
        "colab_type": "code",
        "colab": {}
      },
      "source": [
        "import os\n",
        "import os\n",
        "os.environ[\"JAVA_HOME\"] = \"/usr/lib/jvm/java-8-openjdk-amd64\"\n",
        "os.environ[\"SPARK_HOME\"] = \"/content/spark-2.4.6-bin-hadoop2.6\""
      ],
      "execution_count": null,
      "outputs": []
    },
    {
      "cell_type": "markdown",
      "metadata": {
        "id": "yaFoYfEdUzBJ",
        "colab_type": "text"
      },
      "source": [
        "Import library Spark yang sudah diinstal"
      ]
    },
    {
      "cell_type": "code",
      "metadata": {
        "id": "GpIgWCeZUqag",
        "colab_type": "code",
        "colab": {}
      },
      "source": [
        "import findspark\n",
        "findspark.init(\"spark-2.4.6-bin-hadoop2.6\")\n",
        "from pyspark.sql import SparkSession\n",
        "spark = SparkSession.builder.master(\"local[*]\").getOrCreate()\n",
        "from pyspark.sql.functions import col, avg"
      ],
      "execution_count": null,
      "outputs": []
    },
    {
      "cell_type": "markdown",
      "metadata": {
        "id": "bebssNNmVBlO",
        "colab_type": "text"
      },
      "source": [
        "Inisialisasi SparkContext dan SparkSession"
      ]
    },
    {
      "cell_type": "code",
      "metadata": {
        "id": "cZNkF8EXVFuv",
        "colab_type": "code",
        "colab": {}
      },
      "source": [
        "sc = spark.sparkContext\n",
        "spark = SparkSession(sc)"
      ],
      "execution_count": null,
      "outputs": []
    },
    {
      "cell_type": "markdown",
      "metadata": {
        "id": "N-V4i70oVL8G",
        "colab_type": "text"
      },
      "source": [
        "Load Data_Set"
      ]
    },
    {
      "cell_type": "code",
      "metadata": {
        "id": "BbEJykgTVPzp",
        "colab_type": "code",
        "colab": {
          "base_uri": "https://localhost:8080/",
          "height": 316
        },
        "outputId": "9e94acb7-ce9b-46ff-d760-2db143ffaa04"
      },
      "source": [
        "avocado_df = spark.read.csv(\"/content/sample_data/avocado.csv\", header=True, inferSchema=True)\n",
        "avocado_df.printSchema()"
      ],
      "execution_count": 7,
      "outputs": [
        {
          "output_type": "stream",
          "text": [
            "root\n",
            " |-- _c0: integer (nullable = true)\n",
            " |-- Date: timestamp (nullable = true)\n",
            " |-- AveragePrice: double (nullable = true)\n",
            " |-- Total Volume: double (nullable = true)\n",
            " |-- 4046: double (nullable = true)\n",
            " |-- 4225: double (nullable = true)\n",
            " |-- 4770: double (nullable = true)\n",
            " |-- Total Bags: double (nullable = true)\n",
            " |-- Small Bags: double (nullable = true)\n",
            " |-- Large Bags: double (nullable = true)\n",
            " |-- XLarge Bags: double (nullable = true)\n",
            " |-- type: string (nullable = true)\n",
            " |-- year: integer (nullable = true)\n",
            " |-- region: string (nullable = true)\n",
            "\n"
          ],
          "name": "stdout"
        }
      ]
    },
    {
      "cell_type": "markdown",
      "metadata": {
        "id": "DUd9Vug2WEII",
        "colab_type": "text"
      },
      "source": [
        "Proses Visualisasi Data"
      ]
    },
    {
      "cell_type": "code",
      "metadata": {
        "id": "774Szz2hezqx",
        "colab_type": "code",
        "colab": {}
      },
      "source": [
        "avocado_df = pd.read_csv('/content/sample_data/avocado.csv')"
      ],
      "execution_count": 40,
      "outputs": []
    },
    {
      "cell_type": "code",
      "metadata": {
        "id": "b0KPTEiTmGKV",
        "colab_type": "code",
        "colab": {
          "base_uri": "https://localhost:8080/",
          "height": 441
        },
        "outputId": "60f598d9-ba54-4053-8f6b-b11c2a30f007"
      },
      "source": [
        "avocado_df"
      ],
      "execution_count": 41,
      "outputs": [
        {
          "output_type": "execute_result",
          "data": {
            "text/html": [
              "<div>\n",
              "<style scoped>\n",
              "    .dataframe tbody tr th:only-of-type {\n",
              "        vertical-align: middle;\n",
              "    }\n",
              "\n",
              "    .dataframe tbody tr th {\n",
              "        vertical-align: top;\n",
              "    }\n",
              "\n",
              "    .dataframe thead th {\n",
              "        text-align: right;\n",
              "    }\n",
              "</style>\n",
              "<table border=\"1\" class=\"dataframe\">\n",
              "  <thead>\n",
              "    <tr style=\"text-align: right;\">\n",
              "      <th></th>\n",
              "      <th>Unnamed: 0</th>\n",
              "      <th>Date</th>\n",
              "      <th>AveragePrice</th>\n",
              "      <th>Total Volume</th>\n",
              "      <th>4046</th>\n",
              "      <th>4225</th>\n",
              "      <th>4770</th>\n",
              "      <th>Total Bags</th>\n",
              "      <th>Small Bags</th>\n",
              "      <th>Large Bags</th>\n",
              "      <th>XLarge Bags</th>\n",
              "      <th>type</th>\n",
              "      <th>year</th>\n",
              "      <th>region</th>\n",
              "    </tr>\n",
              "  </thead>\n",
              "  <tbody>\n",
              "    <tr>\n",
              "      <th>0</th>\n",
              "      <td>0</td>\n",
              "      <td>2015-12-27</td>\n",
              "      <td>1.33</td>\n",
              "      <td>64236.62</td>\n",
              "      <td>1036.74</td>\n",
              "      <td>54454.85</td>\n",
              "      <td>48.16</td>\n",
              "      <td>8696.87</td>\n",
              "      <td>8603.62</td>\n",
              "      <td>93.25</td>\n",
              "      <td>0.00</td>\n",
              "      <td>conventional</td>\n",
              "      <td>2015.0</td>\n",
              "      <td>Albany</td>\n",
              "    </tr>\n",
              "    <tr>\n",
              "      <th>1</th>\n",
              "      <td>1</td>\n",
              "      <td>2015-12-20</td>\n",
              "      <td>1.35</td>\n",
              "      <td>54876.98</td>\n",
              "      <td>674.28</td>\n",
              "      <td>44638.81</td>\n",
              "      <td>58.33</td>\n",
              "      <td>9505.56</td>\n",
              "      <td>9408.07</td>\n",
              "      <td>97.49</td>\n",
              "      <td>0.00</td>\n",
              "      <td>conventional</td>\n",
              "      <td>2015.0</td>\n",
              "      <td>Albany</td>\n",
              "    </tr>\n",
              "    <tr>\n",
              "      <th>2</th>\n",
              "      <td>2</td>\n",
              "      <td>2015-12-13</td>\n",
              "      <td>0.93</td>\n",
              "      <td>118220.22</td>\n",
              "      <td>794.70</td>\n",
              "      <td>109149.67</td>\n",
              "      <td>130.50</td>\n",
              "      <td>8145.35</td>\n",
              "      <td>8042.21</td>\n",
              "      <td>103.14</td>\n",
              "      <td>0.00</td>\n",
              "      <td>conventional</td>\n",
              "      <td>2015.0</td>\n",
              "      <td>Albany</td>\n",
              "    </tr>\n",
              "    <tr>\n",
              "      <th>3</th>\n",
              "      <td>3</td>\n",
              "      <td>2015-12-06</td>\n",
              "      <td>1.08</td>\n",
              "      <td>78992.15</td>\n",
              "      <td>1132.00</td>\n",
              "      <td>71976.41</td>\n",
              "      <td>72.58</td>\n",
              "      <td>5811.16</td>\n",
              "      <td>5677.40</td>\n",
              "      <td>133.76</td>\n",
              "      <td>0.00</td>\n",
              "      <td>conventional</td>\n",
              "      <td>2015.0</td>\n",
              "      <td>Albany</td>\n",
              "    </tr>\n",
              "    <tr>\n",
              "      <th>4</th>\n",
              "      <td>4</td>\n",
              "      <td>2015-11-29</td>\n",
              "      <td>1.28</td>\n",
              "      <td>51039.60</td>\n",
              "      <td>941.48</td>\n",
              "      <td>43838.39</td>\n",
              "      <td>75.78</td>\n",
              "      <td>6183.95</td>\n",
              "      <td>5986.26</td>\n",
              "      <td>197.69</td>\n",
              "      <td>0.00</td>\n",
              "      <td>conventional</td>\n",
              "      <td>2015.0</td>\n",
              "      <td>Albany</td>\n",
              "    </tr>\n",
              "    <tr>\n",
              "      <th>...</th>\n",
              "      <td>...</td>\n",
              "      <td>...</td>\n",
              "      <td>...</td>\n",
              "      <td>...</td>\n",
              "      <td>...</td>\n",
              "      <td>...</td>\n",
              "      <td>...</td>\n",
              "      <td>...</td>\n",
              "      <td>...</td>\n",
              "      <td>...</td>\n",
              "      <td>...</td>\n",
              "      <td>...</td>\n",
              "      <td>...</td>\n",
              "      <td>...</td>\n",
              "    </tr>\n",
              "    <tr>\n",
              "      <th>8801</th>\n",
              "      <td>11</td>\n",
              "      <td>2018-01-07</td>\n",
              "      <td>0.85</td>\n",
              "      <td>303963.18</td>\n",
              "      <td>167628.98</td>\n",
              "      <td>10026.09</td>\n",
              "      <td>409.67</td>\n",
              "      <td>125898.44</td>\n",
              "      <td>108075.96</td>\n",
              "      <td>16240.96</td>\n",
              "      <td>1581.52</td>\n",
              "      <td>conventional</td>\n",
              "      <td>2018.0</td>\n",
              "      <td>Nashville</td>\n",
              "    </tr>\n",
              "    <tr>\n",
              "      <th>8802</th>\n",
              "      <td>0</td>\n",
              "      <td>2018-03-25</td>\n",
              "      <td>1.04</td>\n",
              "      <td>305105.53</td>\n",
              "      <td>171335.77</td>\n",
              "      <td>20076.04</td>\n",
              "      <td>2425.10</td>\n",
              "      <td>111268.62</td>\n",
              "      <td>94895.33</td>\n",
              "      <td>15963.29</td>\n",
              "      <td>410.00</td>\n",
              "      <td>conventional</td>\n",
              "      <td>2018.0</td>\n",
              "      <td>NewOrleansMobile</td>\n",
              "    </tr>\n",
              "    <tr>\n",
              "      <th>8803</th>\n",
              "      <td>1</td>\n",
              "      <td>2018-03-18</td>\n",
              "      <td>1.02</td>\n",
              "      <td>316969.55</td>\n",
              "      <td>181011.25</td>\n",
              "      <td>19002.68</td>\n",
              "      <td>2515.00</td>\n",
              "      <td>114440.62</td>\n",
              "      <td>95470.29</td>\n",
              "      <td>18533.66</td>\n",
              "      <td>436.67</td>\n",
              "      <td>conventional</td>\n",
              "      <td>2018.0</td>\n",
              "      <td>NewOrleansMobile</td>\n",
              "    </tr>\n",
              "    <tr>\n",
              "      <th>8804</th>\n",
              "      <td>2</td>\n",
              "      <td>2018-03-11</td>\n",
              "      <td>1.05</td>\n",
              "      <td>316463.18</td>\n",
              "      <td>177320.17</td>\n",
              "      <td>22478.10</td>\n",
              "      <td>2158.00</td>\n",
              "      <td>114506.91</td>\n",
              "      <td>93807.58</td>\n",
              "      <td>20352.66</td>\n",
              "      <td>346.67</td>\n",
              "      <td>conventional</td>\n",
              "      <td>2018.0</td>\n",
              "      <td>NewOrleansMobile</td>\n",
              "    </tr>\n",
              "    <tr>\n",
              "      <th>8805</th>\n",
              "      <td>3</td>\n",
              "      <td>2018-03-04</td>\n",
              "      <td>1.03</td>\n",
              "      <td>332378.96</td>\n",
              "      <td>190521.47</td>\n",
              "      <td>24646.65</td>\n",
              "      <td>2564.00</td>\n",
              "      <td>114646.00</td>\n",
              "      <td>NaN</td>\n",
              "      <td>NaN</td>\n",
              "      <td>NaN</td>\n",
              "      <td>NaN</td>\n",
              "      <td>NaN</td>\n",
              "      <td>NaN</td>\n",
              "    </tr>\n",
              "  </tbody>\n",
              "</table>\n",
              "<p>8806 rows × 14 columns</p>\n",
              "</div>"
            ],
            "text/plain": [
              "      Unnamed: 0        Date  ...    year            region\n",
              "0              0  2015-12-27  ...  2015.0            Albany\n",
              "1              1  2015-12-20  ...  2015.0            Albany\n",
              "2              2  2015-12-13  ...  2015.0            Albany\n",
              "3              3  2015-12-06  ...  2015.0            Albany\n",
              "4              4  2015-11-29  ...  2015.0            Albany\n",
              "...          ...         ...  ...     ...               ...\n",
              "8801          11  2018-01-07  ...  2018.0         Nashville\n",
              "8802           0  2018-03-25  ...  2018.0  NewOrleansMobile\n",
              "8803           1  2018-03-18  ...  2018.0  NewOrleansMobile\n",
              "8804           2  2018-03-11  ...  2018.0  NewOrleansMobile\n",
              "8805           3  2018-03-04  ...     NaN               NaN\n",
              "\n",
              "[8806 rows x 14 columns]"
            ]
          },
          "metadata": {
            "tags": []
          },
          "execution_count": 41
        }
      ]
    },
    {
      "cell_type": "code",
      "metadata": {
        "id": "7A-qBfbGntCx",
        "colab_type": "code",
        "colab": {
          "base_uri": "https://localhost:8080/",
          "height": 249
        },
        "outputId": "3a616564-56dd-43e4-cbf1-618794414423"
      },
      "source": [
        "import matplotlib.pyplot as plt\n",
        "import numpy as np\n",
        "\n",
        "\n",
        "x_AveragePrice = [1.33, 1.35, 0.93, 1.08, 1.28, 0.85, 1.04, 1.02, 1.05, 1.03]\n",
        "y = range[15]\n",
        "\n",
        "plt.bar(y, x_AveragePrice, label = 'AveragePrice')\n",
        "plt.xlabel('Day')\n",
        "plt.ylabel('AveragePrice')\n",
        "plt.legend(loc = 'upper right')\n",
        "plt.grid(True, linewidth = 1, linestyle = '-.')\n",
        "plt.title('AveragePrice Of Avocado')\n",
        "plt.show()\n"
      ],
      "execution_count": 49,
      "outputs": [
        {
          "output_type": "error",
          "ename": "TypeError",
          "evalue": "ignored",
          "traceback": [
            "\u001b[0;31m---------------------------------------------------------------------------\u001b[0m",
            "\u001b[0;31mTypeError\u001b[0m                                 Traceback (most recent call last)",
            "\u001b[0;32m<ipython-input-49-46f4b1dc5bdd>\u001b[0m in \u001b[0;36m<module>\u001b[0;34m()\u001b[0m\n\u001b[1;32m      4\u001b[0m \u001b[0;34m\u001b[0m\u001b[0m\n\u001b[1;32m      5\u001b[0m \u001b[0mx_AveragePrice\u001b[0m \u001b[0;34m=\u001b[0m \u001b[0;34m[\u001b[0m\u001b[0;36m1.33\u001b[0m\u001b[0;34m,\u001b[0m \u001b[0;36m1.35\u001b[0m\u001b[0;34m,\u001b[0m \u001b[0;36m0.93\u001b[0m\u001b[0;34m,\u001b[0m \u001b[0;36m1.08\u001b[0m\u001b[0;34m,\u001b[0m \u001b[0;36m1.28\u001b[0m\u001b[0;34m,\u001b[0m \u001b[0;36m0.85\u001b[0m\u001b[0;34m,\u001b[0m \u001b[0;36m1.04\u001b[0m\u001b[0;34m,\u001b[0m \u001b[0;36m1.02\u001b[0m\u001b[0;34m,\u001b[0m \u001b[0;36m1.05\u001b[0m\u001b[0;34m,\u001b[0m \u001b[0;36m1.03\u001b[0m\u001b[0;34m]\u001b[0m\u001b[0;34m\u001b[0m\u001b[0;34m\u001b[0m\u001b[0m\n\u001b[0;32m----> 6\u001b[0;31m \u001b[0my\u001b[0m \u001b[0;34m=\u001b[0m \u001b[0mrange\u001b[0m\u001b[0;34m[\u001b[0m\u001b[0;36m15\u001b[0m\u001b[0;34m]\u001b[0m\u001b[0;34m\u001b[0m\u001b[0;34m\u001b[0m\u001b[0m\n\u001b[0m\u001b[1;32m      7\u001b[0m \u001b[0;34m\u001b[0m\u001b[0m\n\u001b[1;32m      8\u001b[0m \u001b[0mplt\u001b[0m\u001b[0;34m.\u001b[0m\u001b[0mbar\u001b[0m\u001b[0;34m(\u001b[0m\u001b[0my\u001b[0m\u001b[0;34m,\u001b[0m \u001b[0mx_AveragePrice\u001b[0m\u001b[0;34m,\u001b[0m \u001b[0mlabel\u001b[0m \u001b[0;34m=\u001b[0m \u001b[0;34m'AveragePrice'\u001b[0m\u001b[0;34m)\u001b[0m\u001b[0;34m\u001b[0m\u001b[0;34m\u001b[0m\u001b[0m\n",
            "\u001b[0;31mTypeError\u001b[0m: 'type' object is not subscriptable"
          ]
        }
      ]
    },
    {
      "cell_type": "markdown",
      "metadata": {
        "id": "LAm_yRPvoEjQ",
        "colab_type": "text"
      },
      "source": [
        ""
      ]
    }
  ]
}
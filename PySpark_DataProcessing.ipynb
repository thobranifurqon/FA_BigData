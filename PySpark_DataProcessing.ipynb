{
  "nbformat": 4,
  "nbformat_minor": 0,
  "metadata": {
    "colab": {
      "name": "PySpark_DataProcessing.ipynb",
      "provenance": [],
      "authorship_tag": "ABX9TyNvA3h1kiY56u5yTIfhHsrc",
      "include_colab_link": true
    },
    "kernelspec": {
      "name": "python3",
      "display_name": "Python 3"
    }
  },
  "cells": [
    {
      "cell_type": "markdown",
      "metadata": {
        "id": "view-in-github",
        "colab_type": "text"
      },
      "source": [
        "<a href=\"https://colab.research.google.com/github/thobranifurqon/FA_BigData/blob/master/PySpark_DataProcessing.ipynb\" target=\"_parent\"><img src=\"https://colab.research.google.com/assets/colab-badge.svg\" alt=\"Open In Colab\"/></a>"
      ]
    },
    {
      "cell_type": "markdown",
      "metadata": {
        "id": "wR3k2xo5Sk8a",
        "colab_type": "text"
      },
      "source": [
        "Instalasi Spark pada Google Colab"
      ]
    },
    {
      "cell_type": "code",
      "metadata": {
        "id": "Rzv_hjq7Mi8j",
        "colab_type": "code",
        "colab": {}
      },
      "source": [
        "!apt-get install openjdk-8-jdk-headless -qq > /dev/null\n",
        "!wget -q http://www-eu.apache.org/dist/spark/spark-2.4.6/spark-2.4.6-bin-hadoop2.6.tgz\n",
        "!tar xf spark-2.4.6-bin-hadoop2.6.tgz\n",
        "!pip install -q findspark"
      ],
      "execution_count": null,
      "outputs": []
    },
    {
      "cell_type": "code",
      "metadata": {
        "id": "4wO1CQQ_NOU1",
        "colab_type": "code",
        "colab": {}
      },
      "source": [
        "import os\n",
        "import os\n",
        "os.environ[\"JAVA_HOME\"] = \"/usr/lib/jvm/java-8-openjdk-amd64\"\n",
        "os.environ[\"SPARK_HOME\"] = \"/content/spark-2.4.6-bin-hadoop2.6\""
      ],
      "execution_count": null,
      "outputs": []
    },
    {
      "cell_type": "markdown",
      "metadata": {
        "id": "MW3yharxSncL",
        "colab_type": "text"
      },
      "source": [
        "Import library Spark yang sudah diinstal"
      ]
    },
    {
      "cell_type": "code",
      "metadata": {
        "id": "59PvIaBvNTbV",
        "colab_type": "code",
        "colab": {}
      },
      "source": [
        "import findspark\n",
        "findspark.init(\"spark-2.4.6-bin-hadoop2.6\")\n",
        "from pyspark.sql import SparkSession\n",
        "spark = SparkSession.builder.master(\"local[*]\").getOrCreate()\n",
        "from pyspark.sql.functions import col, avg"
      ],
      "execution_count": null,
      "outputs": []
    },
    {
      "cell_type": "markdown",
      "metadata": {
        "id": "JohMoOoOSr_b",
        "colab_type": "text"
      },
      "source": [
        "\n",
        "\n",
        "Inisialisasi SparkContext dan SparkSession\n"
      ]
    },
    {
      "cell_type": "code",
      "metadata": {
        "id": "7kTuEdhyNfnk",
        "colab_type": "code",
        "colab": {}
      },
      "source": [
        "sc = spark.sparkContext\n",
        "spark = SparkSession(sc)"
      ],
      "execution_count": null,
      "outputs": []
    },
    {
      "cell_type": "markdown",
      "metadata": {
        "id": "dANxVe7iSxha",
        "colab_type": "text"
      },
      "source": [
        "Load Data_Set"
      ]
    },
    {
      "cell_type": "code",
      "metadata": {
        "id": "gV86t-58Nisc",
        "colab_type": "code",
        "colab": {
          "base_uri": "https://localhost:8080/",
          "height": 316
        },
        "outputId": "060809b1-32fd-43a8-d623-33dc949a7fcc"
      },
      "source": [
        "avocado_df = spark.read.csv(\"/content/sample_data/avocado.csv\", header=True, inferSchema=True)\n",
        "avocado_df.printSchema()"
      ],
      "execution_count": 8,
      "outputs": [
        {
          "output_type": "stream",
          "text": [
            "root\n",
            " |-- _c0: integer (nullable = true)\n",
            " |-- Date: timestamp (nullable = true)\n",
            " |-- AveragePrice: double (nullable = true)\n",
            " |-- Total Volume: double (nullable = true)\n",
            " |-- 4046: double (nullable = true)\n",
            " |-- 4225: double (nullable = true)\n",
            " |-- 4770: double (nullable = true)\n",
            " |-- Total Bags: double (nullable = true)\n",
            " |-- Small Bags: double (nullable = true)\n",
            " |-- Large Bags: double (nullable = true)\n",
            " |-- XLarge Bags: double (nullable = true)\n",
            " |-- type: string (nullable = true)\n",
            " |-- year: integer (nullable = true)\n",
            " |-- region: string (nullable = true)\n",
            "\n"
          ],
          "name": "stdout"
        }
      ]
    },
    {
      "cell_type": "markdown",
      "metadata": {
        "id": "yHXWHsYNS3uL",
        "colab_type": "text"
      },
      "source": [
        ""
      ]
    },
    {
      "cell_type": "code",
      "metadata": {
        "id": "GOGa6KPFOJtl",
        "colab_type": "code",
        "colab": {
          "base_uri": "https://localhost:8080/",
          "height": 409
        },
        "outputId": "ca1e8691-4d92-4569-81d1-a3ddd4192b1e"
      },
      "source": [
        "avocado_df.show(15)"
      ],
      "execution_count": 9,
      "outputs": [
        {
          "output_type": "stream",
          "text": [
            "+---+-------------------+------------+------------+-------+---------+------+----------+----------+----------+-----------+------------+----+------+\n",
            "|_c0|               Date|AveragePrice|Total Volume|   4046|     4225|  4770|Total Bags|Small Bags|Large Bags|XLarge Bags|        type|year|region|\n",
            "+---+-------------------+------------+------------+-------+---------+------+----------+----------+----------+-----------+------------+----+------+\n",
            "|  0|2015-12-27 00:00:00|        1.33|    64236.62|1036.74| 54454.85| 48.16|   8696.87|   8603.62|     93.25|        0.0|conventional|2015|Albany|\n",
            "|  1|2015-12-20 00:00:00|        1.35|    54876.98| 674.28| 44638.81| 58.33|   9505.56|   9408.07|     97.49|        0.0|conventional|2015|Albany|\n",
            "|  2|2015-12-13 00:00:00|        0.93|   118220.22|  794.7|109149.67| 130.5|   8145.35|   8042.21|    103.14|        0.0|conventional|2015|Albany|\n",
            "|  3|2015-12-06 00:00:00|        1.08|    78992.15| 1132.0| 71976.41| 72.58|   5811.16|    5677.4|    133.76|        0.0|conventional|2015|Albany|\n",
            "|  4|2015-11-29 00:00:00|        1.28|     51039.6| 941.48| 43838.39| 75.78|   6183.95|   5986.26|    197.69|        0.0|conventional|2015|Albany|\n",
            "|  5|2015-11-22 00:00:00|        1.26|    55979.78|1184.27| 48067.99| 43.61|   6683.91|   6556.47|    127.44|        0.0|conventional|2015|Albany|\n",
            "|  6|2015-11-15 00:00:00|        0.99|    83453.76|1368.92| 73672.72| 93.26|   8318.86|   8196.81|    122.05|        0.0|conventional|2015|Albany|\n",
            "|  7|2015-11-08 00:00:00|        0.98|   109428.33| 703.75|101815.36|  80.0|   6829.22|   6266.85|    562.37|        0.0|conventional|2015|Albany|\n",
            "|  8|2015-11-01 00:00:00|        1.02|    99811.42|1022.15| 87315.57| 85.34|  11388.36|  11104.53|    283.83|        0.0|conventional|2015|Albany|\n",
            "|  9|2015-10-25 00:00:00|        1.07|    74338.76|  842.4| 64757.44| 113.0|   8625.92|   8061.47|    564.45|        0.0|conventional|2015|Albany|\n",
            "| 10|2015-10-18 00:00:00|        1.12|    84843.44| 924.86| 75595.85|117.07|   8205.66|   7877.86|     327.8|        0.0|conventional|2015|Albany|\n",
            "| 11|2015-10-11 00:00:00|        1.28|    64489.17|1582.03| 52677.92|105.32|   10123.9|   9866.27|    257.63|        0.0|conventional|2015|Albany|\n",
            "| 12|2015-10-04 00:00:00|        1.31|     61007.1|2268.32| 49880.67|101.36|   8756.75|   8379.98|    376.77|        0.0|conventional|2015|Albany|\n",
            "| 13|2015-09-27 00:00:00|        0.99|   106803.39|1204.88| 99409.21|154.84|   6034.46|   5888.87|    145.59|        0.0|conventional|2015|Albany|\n",
            "| 14|2015-09-20 00:00:00|        1.33|    69759.01|1028.03| 59313.12| 150.5|   9267.36|    8489.1|    778.26|        0.0|conventional|2015|Albany|\n",
            "+---+-------------------+------------+------------+-------+---------+------+----------+----------+----------+-----------+------------+----+------+\n",
            "only showing top 15 rows\n",
            "\n"
          ],
          "name": "stdout"
        }
      ]
    },
    {
      "cell_type": "markdown",
      "metadata": {
        "id": "kNpyz1L_TFC1",
        "colab_type": "text"
      },
      "source": [
        "Pemrosesan Data"
      ]
    },
    {
      "cell_type": "code",
      "metadata": {
        "id": "2MVcilJQPPt_",
        "colab_type": "code",
        "colab": {
          "base_uri": "https://localhost:8080/",
          "height": 521
        },
        "outputId": "a58e8eaa-a8cb-46aa-f851-cab17ee10df8"
      },
      "source": [
        "#filter kolom AveragePrice yang nilainya 1 \n",
        "avocado_AveragePrice = avocado_df.filter(avocado_df.AveragePrice == 1)\n",
        "#jumlah total averageprice\n",
        "print(\"jumlah AveragePrice:\", avocado_AveragePrice.count())\n",
        "#perhitungan rata-rata AveragePrice Avocado berdasarkan year dan region\n",
        "avocado_AveragePrice.groupby(\"region\").avg(\"year\").show()"
      ],
      "execution_count": 12,
      "outputs": [
        {
          "output_type": "stream",
          "text": [
            "jumlah AveragePrice: 167\n",
            "+-----------------+------------------+\n",
            "|           region|         avg(year)|\n",
            "+-----------------+------------------+\n",
            "|    PhoenixTucson|            2016.0|\n",
            "|    SouthCarolina|            2015.8|\n",
            "|          TotalUS|            2015.2|\n",
            "| WestTexNewMexico|            2016.0|\n",
            "|       Louisville|            2016.0|\n",
            "|       Sacramento|2015.3333333333333|\n",
            "|    DallasFtWorth|            2016.2|\n",
            "|     Indianapolis|            2017.0|\n",
            "|        Nashville|            2016.0|\n",
            "|         LasVegas|            2016.0|\n",
            "|       GreatLakes|2015.3333333333333|\n",
            "|          Detroit| 2015.857142857143|\n",
            "|         Portland|            2016.0|\n",
            "| CincinnatiDayton|            2017.0|\n",
            "|         SanDiego|            2017.0|\n",
            "|            Boise|           2015.75|\n",
            "|          StLouis|           2016.25|\n",
            "| NewOrleansMobile|            2015.0|\n",
            "|         Columbus|            2015.5|\n",
            "|MiamiFtLauderdale|            2016.0|\n",
            "+-----------------+------------------+\n",
            "only showing top 20 rows\n",
            "\n"
          ],
          "name": "stdout"
        }
      ]
    },
    {
      "cell_type": "markdown",
      "metadata": {
        "id": "NysVeo3lTGxr",
        "colab_type": "text"
      },
      "source": [
        "Pemrosesan Menggunakan SparkSQL"
      ]
    },
    {
      "cell_type": "code",
      "metadata": {
        "id": "sPvIA6I4Q5VN",
        "colab_type": "code",
        "colab": {
          "base_uri": "https://localhost:8080/",
          "height": 411
        },
        "outputId": "51ebb9bf-3c2e-4083-aa09-6e2bd522c728"
      },
      "source": [
        "avocado_df.createOrReplaceTempView(\"avocado_sql\")\n",
        "\n",
        "result = spark.sql(\"SELECT * FROM avocado_sql WHERE AveragePrice = 1 LIMIT 15\")\n",
        "result.show()"
      ],
      "execution_count": 15,
      "outputs": [
        {
          "output_type": "stream",
          "text": [
            "+---+-------------------+------------+------------+---------+---------+---------+----------+----------+----------+-----------+------------+----+---------+\n",
            "|_c0|               Date|AveragePrice|Total Volume|     4046|     4225|     4770|Total Bags|Small Bags|Large Bags|XLarge Bags|        type|year|   region|\n",
            "+---+-------------------+------------+------------+---------+---------+---------+----------+----------+----------+-----------+------------+----+---------+\n",
            "|  5|2015-11-22 00:00:00|         1.0|   356414.57|269799.03|  29732.3|   501.16|  56382.08|   36992.3|  19389.78|        0.0|conventional|2015|  Atlanta|\n",
            "| 34|2015-05-03 00:00:00|         1.0|    634213.1|538403.48| 28568.26|  1059.73|  66181.63|  32520.82|  33660.81|        0.0|conventional|2015|  Atlanta|\n",
            "| 40|2015-03-22 00:00:00|         1.0|   479590.62|393591.03|  23419.6|   304.89|   62275.1|  40495.12|  21766.54|      13.44|conventional|2015|  Atlanta|\n",
            "| 51|2015-01-04 00:00:00|         1.0|   435021.49|364302.39| 23821.16|    82.15|  46815.79|  16707.15|  30108.64|        0.0|conventional|2015|  Atlanta|\n",
            "| 34|2015-05-03 00:00:00|         1.0|    85466.99| 66880.12|  7942.34|  4289.72|   6354.81|   6349.93|       0.0|       4.88|conventional|2015|    Boise|\n",
            "| 41|2015-03-15 00:00:00|         1.0|    65918.28| 51472.29|  7018.29|   2981.8|    4445.9|    4445.9|       0.0|        0.0|conventional|2015|    Boise|\n",
            "|  5|2015-11-22 00:00:00|         1.0|   133618.33| 30028.69| 53644.97| 24221.58|  25723.09|  22228.47|   3494.62|        0.0|conventional|2015|Charlotte|\n",
            "| 34|2015-05-03 00:00:00|         1.0|    261492.2| 50203.31| 69446.61| 77627.49|  64214.79|  58626.28|   5588.51|        0.0|conventional|2015|Charlotte|\n",
            "|  8|2015-11-01 00:00:00|         1.0|   807041.46| 69420.04|562214.56|106536.92|  68869.94|  68447.93|    422.01|        0.0|conventional|2015|  Chicago|\n",
            "| 14|2015-09-20 00:00:00|         1.0|   165068.86|  86031.9| 31599.19| 26200.37|   21237.4|  12029.73|   4671.88|    4535.79|conventional|2015| Columbus|\n",
            "| 20|2015-08-09 00:00:00|         1.0|    167387.9| 64121.12| 52440.39| 20857.42|  29968.97|   20668.0|   7460.64|    1840.33|conventional|2015| Columbus|\n",
            "| 32|2015-05-17 00:00:00|         1.0|   180511.78| 97341.26| 38624.07| 22934.89|  21611.56|  15997.43|   2463.86|    3150.27|conventional|2015| Columbus|\n",
            "| 36|2015-04-19 00:00:00|         1.0|   172913.44| 80303.92| 40370.03| 26369.27|  25870.22|   20819.2|   1861.68|    3189.34|conventional|2015| Columbus|\n",
            "| 44|2015-02-22 00:00:00|         1.0|    899302.8|153410.25|584093.63|  5686.33| 156112.59|  62564.22|  93534.16|      14.21|conventional|2015|   Denver|\n",
            "| 14|2015-09-20 00:00:00|         1.0|   373545.23|129945.11| 71335.62|111298.27|  60966.23|  38180.88|    839.26|   21946.09|conventional|2015|  Detroit|\n",
            "+---+-------------------+------------+------------+---------+---------+---------+----------+----------+----------+-----------+------------+----+---------+\n",
            "\n"
          ],
          "name": "stdout"
        }
      ]
    },
    {
      "cell_type": "code",
      "metadata": {
        "id": "cci_VOApSb4z",
        "colab_type": "code",
        "colab": {}
      },
      "source": [
        "spark.stop()"
      ],
      "execution_count": 16,
      "outputs": []
    }
  ]
}
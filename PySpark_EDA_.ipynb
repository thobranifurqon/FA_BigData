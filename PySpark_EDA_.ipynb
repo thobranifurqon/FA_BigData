{
  "nbformat": 4,
  "nbformat_minor": 0,
  "metadata": {
    "colab": {
      "name": "PySpark_EDA_.ipynb",
      "provenance": [],
      "collapsed_sections": [],
      "authorship_tag": "ABX9TyPfWrt8GVp8lZXP/Ny7Gd6N",
      "include_colab_link": true
    },
    "kernelspec": {
      "name": "python3",
      "display_name": "Python 3"
    }
  },
  "cells": [
    {
      "cell_type": "markdown",
      "metadata": {
        "id": "view-in-github",
        "colab_type": "text"
      },
      "source": [
        "<a href=\"https://colab.research.google.com/github/thobranifurqon/FA_BigData/blob/master/PySpark_EDA_.ipynb\" target=\"_parent\"><img src=\"https://colab.research.google.com/assets/colab-badge.svg\" alt=\"Open In Colab\"/></a>"
      ]
    },
    {
      "cell_type": "markdown",
      "metadata": {
        "id": "V3kGfWGLyLKX",
        "colab_type": "text"
      },
      "source": [
        "Instalasi Spark pada Google Colab"
      ]
    },
    {
      "cell_type": "code",
      "metadata": {
        "id": "DHr-yayiwckR",
        "colab_type": "code",
        "colab": {}
      },
      "source": [
        "!apt-get install openjdk-8-jdk-headless -qq > /dev/null\n",
        "!wget -q http://www-eu.apache.org/dist/spark/spark-2.4.6/spark-2.4.6-bin-hadoop2.6.tgz\n",
        "!tar xf spark-2.4.6-bin-hadoop2.6.tgz\n",
        "!pip install -q findspark"
      ],
      "execution_count": 30,
      "outputs": []
    },
    {
      "cell_type": "code",
      "metadata": {
        "id": "beEFp2v9xgkZ",
        "colab_type": "code",
        "colab": {}
      },
      "source": [
        "import os\n",
        "os.environ[\"JAVA_HOME\"] = \"/usr/lib/jvm/java-8-openjdk-amd64\"\n",
        "os.environ[\"SPARK_HOME\"] = \"/content/spark-2.4.6-bin-hadoop2.6\""
      ],
      "execution_count": 31,
      "outputs": []
    },
    {
      "cell_type": "markdown",
      "metadata": {
        "id": "PV-86cG4yUFj",
        "colab_type": "text"
      },
      "source": [
        "Import library Spark yang sudah diinstal"
      ]
    },
    {
      "cell_type": "code",
      "metadata": {
        "id": "VRQPvKIAxpl7",
        "colab_type": "code",
        "colab": {}
      },
      "source": [
        "import findspark\n",
        "findspark.init(\"spark-2.4.6-bin-hadoop2.6\")\n",
        "from pyspark.sql import SparkSession\n",
        "spark = SparkSession.builder.master(\"local[*]\").getOrCreate()\n",
        "from pyspark.sql.functions import col, avg"
      ],
      "execution_count": 32,
      "outputs": []
    },
    {
      "cell_type": "code",
      "metadata": {
        "id": "r71tltSVx0Xq",
        "colab_type": "code",
        "colab": {}
      },
      "source": [
        "!pip install -q pyspark_dist_explore"
      ],
      "execution_count": 33,
      "outputs": []
    },
    {
      "cell_type": "code",
      "metadata": {
        "id": "0qHKQ5hdygui",
        "colab_type": "code",
        "colab": {}
      },
      "source": [
        "import matplotlib.pyplot as plt\n",
        "from pyspark_dist_explore import Histogram, hist"
      ],
      "execution_count": null,
      "outputs": []
    },
    {
      "cell_type": "markdown",
      "metadata": {
        "id": "-Bc3tJjjymbX",
        "colab_type": "text"
      },
      "source": [
        "Inisialisasi SparkContext dan SparkSession"
      ]
    },
    {
      "cell_type": "code",
      "metadata": {
        "id": "xCOJJRMjyq-U",
        "colab_type": "code",
        "colab": {}
      },
      "source": [
        "sc = spark.sparkContext\n",
        "spark = SparkSession(sc)"
      ],
      "execution_count": 34,
      "outputs": []
    },
    {
      "cell_type": "markdown",
      "metadata": {
        "id": "GE_MWkux21St",
        "colab_type": "text"
      },
      "source": [
        "Load Dataset"
      ]
    },
    {
      "cell_type": "code",
      "metadata": {
        "id": "h12bMmJn1msY",
        "colab_type": "code",
        "colab": {
          "base_uri": "https://localhost:8080/",
          "height": 316
        },
        "outputId": "d49aa9fd-d912-4983-a868-e3fdb3e4cb57"
      },
      "source": [
        "avocado_df = spark.read.csv(\"/content/sample_data/avocado.csv\", header=True, inferSchema=True)\n",
        "avocado_df.printSchema() "
      ],
      "execution_count": 36,
      "outputs": [
        {
          "output_type": "stream",
          "text": [
            "root\n",
            " |-- _c0: integer (nullable = true)\n",
            " |-- Date: timestamp (nullable = true)\n",
            " |-- AveragePrice: double (nullable = true)\n",
            " |-- Total Volume: double (nullable = true)\n",
            " |-- 4046: double (nullable = true)\n",
            " |-- 4225: double (nullable = true)\n",
            " |-- 4770: double (nullable = true)\n",
            " |-- Total Bags: double (nullable = true)\n",
            " |-- Small Bags: double (nullable = true)\n",
            " |-- Large Bags: double (nullable = true)\n",
            " |-- XLarge Bags: double (nullable = true)\n",
            " |-- type: string (nullable = true)\n",
            " |-- year: integer (nullable = true)\n",
            " |-- region: string (nullable = true)\n",
            "\n"
          ],
          "name": "stdout"
        }
      ]
    },
    {
      "cell_type": "markdown",
      "metadata": {
        "id": "1OJqfZwR3D4M",
        "colab_type": "text"
      },
      "source": [
        "Proses EDA"
      ]
    },
    {
      "cell_type": "markdown",
      "metadata": {
        "id": "IlGvLfWKC6vI",
        "colab_type": "text"
      },
      "source": [
        "mengecek jumlah AveragePrice pada data_set kita"
      ]
    },
    {
      "cell_type": "code",
      "metadata": {
        "id": "iSFuJ5IZ3ID6",
        "colab_type": "code",
        "colab": {
          "base_uri": "https://localhost:8080/",
          "height": 54
        },
        "outputId": "27bea8e5-a889-472a-c86b-dd0e22f6e77c"
      },
      "source": [
        "print(\"Jumlah AveragePrice:\")\n",
        "avocado_df.count()"
      ],
      "execution_count": 37,
      "outputs": [
        {
          "output_type": "stream",
          "text": [
            "Jumlah AveragePrice:\n"
          ],
          "name": "stdout"
        },
        {
          "output_type": "execute_result",
          "data": {
            "text/plain": [
              "18249"
            ]
          },
          "metadata": {
            "tags": []
          },
          "execution_count": 37
        }
      ]
    },
    {
      "cell_type": "markdown",
      "metadata": {
        "id": "14b1WdGPDUIc",
        "colab_type": "text"
      },
      "source": [
        "\n",
        "\n",
        "Kita gunakan fungsi describe() untuk mengetahui statistik data. Pada contoh ini kita cek statistik dari data pada kolom year.\n"
      ]
    },
    {
      "cell_type": "code",
      "metadata": {
        "id": "lAOc70zn4igx",
        "colab_type": "code",
        "colab": {
          "base_uri": "https://localhost:8080/",
          "height": 204
        },
        "outputId": "7d7d4011-b07b-41fe-f63f-8c6bfc1e3d77"
      },
      "source": [
        "avocado_df.select('year').describe().show()"
      ],
      "execution_count": 38,
      "outputs": [
        {
          "output_type": "stream",
          "text": [
            "+-------+------------------+\n",
            "|summary|              year|\n",
            "+-------+------------------+\n",
            "|  count|             18249|\n",
            "|   mean|2016.1478985149872|\n",
            "| stddev|0.9399384671420276|\n",
            "|    min|              2015|\n",
            "|    max|              2018|\n",
            "+-------+------------------+\n",
            "\n"
          ],
          "name": "stdout"
        }
      ]
    },
    {
      "cell_type": "markdown",
      "metadata": {
        "id": "-V83BQqiDf2L",
        "colab_type": "text"
      },
      "source": [
        "Untuk melihat perseberan data pada kolom Year, kita plot Histogram data. Hasil plot adalah sebagai berikut"
      ]
    },
    {
      "cell_type": "code",
      "metadata": {
        "id": "f-XvYWXz58Ap",
        "colab_type": "code",
        "colab": {
          "base_uri": "https://localhost:8080/",
          "height": 323
        },
        "outputId": "8902873b-2257-4bd8-ebae-001509be3fce"
      },
      "source": [
        "avocado_df_year = avocado_df.select('year')\n",
        "\n",
        "fig, axes = plt.subplots()\n",
        "fig.set_size_inches(5, 5)\n",
        "hist(axes, avocado_df_year, bins=20, color=\"red\")\n",
        "plt.show()"
      ],
      "execution_count": 39,
      "outputs": [
        {
          "output_type": "display_data",
          "data": {
            "image/png": "[encoded data removed]",
            "text/plain": [
              "<Figure size 360x360 with 1 Axes>"
            ]
          },
          "metadata": {
            "tags": [],
            "needs_background": "light"
          }
        }
      ]
    },
    {
      "cell_type": "markdown",
      "metadata": {
        "id": "8xWFkm1UHvkb",
        "colab_type": "text"
      },
      "source": [
        "Dapat kita lihat dari sebaran data  di atas, tidak terdapat data outlier, karena nilai averageprice avocado setiap tahun > 2015.0 dan < 2018.0 sehingga data year adalah valid (tidak terdapat outlier)"
      ]
    },
    {
      "cell_type": "code",
      "metadata": {
        "id": "AvDtNwObImWK",
        "colab_type": "code",
        "colab": {
          "base_uri": "https://localhost:8080/",
          "height": 53
        },
        "outputId": "f0f58446-4584-4c9a-f895-3a31d155140e"
      },
      "source": [
        "print(\"Jumlah total AveragePrice dengan kolom year kosong(null):\")\n",
        "avocado_df.where(col(\"year\").isNull()).count()"
      ],
      "execution_count": null,
      "outputs": [
        {
          "output_type": "stream",
          "text": [
            "Jumlah total AveragePrice dengan kolom year kosong(null):\n"
          ],
          "name": "stdout"
        },
        {
          "output_type": "execute_result",
          "data": {
            "text/plain": [
              "0"
            ]
          },
          "metadata": {
            "tags": []
          },
          "execution_count": 28
        }
      ]
    },
    {
      "cell_type": "markdown",
      "metadata": {
        "id": "G45rZfiO0VyP",
        "colab_type": "text"
      },
      "source": [
        "dikarenakan data yang kita punya tidak ada yang null maka kita tidak melakukan pre-processing dan data kita siap untuk dilanjutkan untuk proses selanjutnya\n"
      ]
    },
    {
      "cell_type": "code",
      "metadata": {
        "id": "XyyHOtA5Gslc",
        "colab_type": "code",
        "colab": {}
      },
      "source": [
        "spark.stop()"
      ],
      "execution_count": null,
      "outputs": []
    }
  ]
}